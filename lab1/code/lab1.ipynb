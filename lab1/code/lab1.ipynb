{
 "cells": [
  {
   "cell_type": "code",
   "execution_count": 1,
   "metadata": {},
   "outputs": [],
   "source": [
    "file = open('data.csv', 'r')\n",
    "data = file.readlines()\n",
    "file.close()\n",
    "income = []\n",
    "outcome = []"
   ]
  },
  {
   "cell_type": "code",
   "execution_count": 2,
   "metadata": {},
   "outputs": [],
   "source": [
    "for line in data:\n",
    "    line = line.split(',')\n",
    "    if line[1] == '933156729':\n",
    "        outcome.append(line)\n",
    "    if line[2] == '933156729':\n",
    "        income.append(line)"
   ]
  },
  {
   "cell_type": "code",
   "execution_count": 3,
   "metadata": {},
   "outputs": [],
   "source": [
    "X = 0\n",
    "k_out_before = 3\n",
    "k_out_after = 2\n",
    "k_inc_before = 0\n",
    "k_inc_after = 2\n",
    "k_sms = 2"
   ]
  },
  {
   "cell_type": "code",
   "execution_count": 4,
   "metadata": {},
   "outputs": [],
   "source": [
    "for call in outcome:\n",
    "    time = call[0][-8:]\n",
    "    if int(call[4]) > 50:\n",
    "        X += (int(call[4]) - 50) * k_sms\n",
    "    if time >= '00:30:00':\n",
    "        X += float(call[3]) * k_out_after\n",
    "    elif time < '00:30:00':\n",
    "        minutes = 30 - int(time[3:5])\n",
    "        X += minutes * k_out_before + (float(call[3]) - minutes) * k_out_after"
   ]
  },
  {
   "cell_type": "code",
   "execution_count": 5,
   "metadata": {},
   "outputs": [],
   "source": [
    "for call in income:\n",
    "    time = call[0][-8:]\n",
    "    dur = float(call[3])\n",
    "    if time >= '00:30:00':\n",
    "        X += dur * k_in_after\n",
    "    elif time < '00:30:00':\n",
    "        minutes = 30 - int(time[3:5])\n",
    "        if minutes > dur:\n",
    "            X += dur * k_inc_before\n",
    "            continue\n",
    "        X += minutes * k_inc_before + (float(call[3]) - minutes) * k_inc_after"
   ]
  },
  {
   "cell_type": "code",
   "execution_count": 6,
   "metadata": {},
   "outputs": [
    {
     "name": "stdout",
     "output_type": "stream",
     "text": [
      "Итоговая сумма:  413.32\n"
     ]
    }
   ],
   "source": [
    "print('Итоговая сумма: ', X)"
   ]
  },
  {
   "cell_type": "code",
   "execution_count": 7,
   "metadata": {},
   "outputs": [],
   "source": [
    "def countPhone():\n",
    "    return X"
   ]
  }
 ],
 "metadata": {
  "kernelspec": {
   "display_name": "Python 3",
   "language": "python",
   "name": "python3"
  },
  "language_info": {
   "codemirror_mode": {
    "name": "ipython",
    "version": 3
   },
   "file_extension": ".py",
   "mimetype": "text/x-python",
   "name": "python",
   "nbconvert_exporter": "python",
   "pygments_lexer": "ipython3",
   "version": "3.7.4"
  }
 },
 "nbformat": 4,
 "nbformat_minor": 2
}
